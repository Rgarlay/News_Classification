{
 "cells": [
  {
   "cell_type": "code",
   "execution_count": 7,
   "metadata": {
    "_cell_guid": "b1076dfc-b9ad-4769-8c92-a6c4dae69d19",
    "_uuid": "8f2839f25d086af736a60e9eeb907d3b93b6e0e5",
    "execution": {
     "iopub.execute_input": "2024-12-16T17:15:57.801813Z",
     "iopub.status.busy": "2024-12-16T17:15:57.801395Z",
     "iopub.status.idle": "2024-12-16T17:16:15.781756Z",
     "shell.execute_reply": "2024-12-16T17:16:15.780269Z",
     "shell.execute_reply.started": "2024-12-16T17:15:57.801779Z"
    },
    "trusted": true
   },
   "outputs": [
    {
     "name": "stdout",
     "output_type": "stream",
     "text": [
      "/kaggle/input/test-files/df_test\n",
      "/kaggle/input/test-files/df_sample\n",
      "/kaggle/input/input-files/train_data.csv\n",
      "/kaggle/input/input-files/test_data.csv\n"
     ]
    }
   ],
   "source": [
    "# This Python 3 environment comes with many helpful analytics libraries installed\n",
    "# It is defined by the kaggle/python Docker image: https://github.com/kaggle/docker-python\n",
    "# For example, here's several helpful packages to load\n",
    "\n",
    "import numpy as np # linear algebra\n",
    "import pandas as pd # data processing, CSV file I/O (e.g. pd.read_csv)\n",
    "\n",
    "from sklearn.model_selection import train_test_split\n",
    "from sklearn.preprocessing import LabelEncoder\n",
    "from nltk.corpus import stopwords\n",
    "from nltk.stem import WordNetLemmatizer\n",
    "import re\n",
    "from keras.utils import pad_sequences\n",
    "from keras.layers import LSTM, Dense, Embedding, Dropout\n",
    "from keras import Sequential\n",
    "from keras.optimizers import Adam\n",
    "from tensorflow.keras.preprocessing.text import Tokenizer, tokenizer_from_json\n",
    "from tensorflow.keras.callbacks import EarlyStopping\n",
    "import tensorflow as tf\n",
    "import joblib\n",
    "\n",
    "# Input data files are available in the read-only \"../input/\" directory\n",
    "# For example, running this (by clicking run or pressing Shift+Enter) will list all files under the input directory\n",
    "\n",
    "import os\n",
    "for dirname, _, filenames in os.walk('/kaggle/input'):\n",
    "    for filename in filenames:\n",
    "        print(os.path.join(dirname, filename))\n",
    "\n",
    "# You can write up to 20GB to the current directory (/kaggle/working/) that gets preserved as output when you create a version using \"Save & Run All\" \n",
    "# You can also write temporary files to /kaggle/temp/, but they won't be saved outside of the current session"
   ]
  },
  {
   "cell_type": "code",
   "execution_count": 8,
   "metadata": {
    "execution": {
     "iopub.execute_input": "2024-12-16T17:16:15.785334Z",
     "iopub.status.busy": "2024-12-16T17:16:15.784473Z",
     "iopub.status.idle": "2024-12-16T17:16:15.910877Z",
     "shell.execute_reply": "2024-12-16T17:16:15.909624Z",
     "shell.execute_reply.started": "2024-12-16T17:16:15.785279Z"
    },
    "trusted": true
   },
   "outputs": [],
   "source": [
    "df_train = pd.read_csv('/kaggle/input/input-files/train_data.csv')\n",
    "df_test = pd.read_csv('/kaggle/input/input-files/test_data.csv')"
   ]
  },
  {
   "cell_type": "code",
   "execution_count": 9,
   "metadata": {
    "execution": {
     "iopub.execute_input": "2024-12-16T17:16:15.912496Z",
     "iopub.status.busy": "2024-12-16T17:16:15.912111Z",
     "iopub.status.idle": "2024-12-16T17:16:15.933586Z",
     "shell.execute_reply": "2024-12-16T17:16:15.932385Z",
     "shell.execute_reply.started": "2024-12-16T17:16:15.912463Z"
    },
    "trusted": true
   },
   "outputs": [],
   "source": [
    "df_train = df_train[['Text','Category']]\n",
    "df_test = df_test[['Text','Category']]"
   ]
  },
  {
   "cell_type": "code",
   "execution_count": 38,
   "metadata": {
    "execution": {
     "iopub.execute_input": "2024-12-16T17:23:08.994941Z",
     "iopub.status.busy": "2024-12-16T17:23:08.994498Z",
     "iopub.status.idle": "2024-12-16T17:23:09.008238Z",
     "shell.execute_reply": "2024-12-16T17:23:09.006726Z",
     "shell.execute_reply.started": "2024-12-16T17:23:08.994894Z"
    },
    "trusted": true
   },
   "outputs": [
    {
     "data": {
      "text/html": [
       "<div>\n",
       "<style scoped>\n",
       "    .dataframe tbody tr th:only-of-type {\n",
       "        vertical-align: middle;\n",
       "    }\n",
       "\n",
       "    .dataframe tbody tr th {\n",
       "        vertical-align: top;\n",
       "    }\n",
       "\n",
       "    .dataframe thead th {\n",
       "        text-align: right;\n",
       "    }\n",
       "</style>\n",
       "<table border=\"1\" class=\"dataframe\">\n",
       "  <thead>\n",
       "    <tr style=\"text-align: right;\">\n",
       "      <th></th>\n",
       "      <th>Text</th>\n",
       "      <th>Category</th>\n",
       "    </tr>\n",
       "  </thead>\n",
       "  <tbody>\n",
       "    <tr>\n",
       "      <th>0</th>\n",
       "      <td>willis sues over movie  injury  actor bruce wi...</td>\n",
       "      <td>entertainment</td>\n",
       "    </tr>\n",
       "    <tr>\n",
       "      <th>1</th>\n",
       "      <td>souped-up wi-fi is on the horizon super high-s...</td>\n",
       "      <td>tech</td>\n",
       "    </tr>\n",
       "    <tr>\n",
       "      <th>2</th>\n",
       "      <td>apple unveils low-cost  mac mini  apple has un...</td>\n",
       "      <td>tech</td>\n",
       "    </tr>\n",
       "    <tr>\n",
       "      <th>3</th>\n",
       "      <td>blair rejects iraq advice calls tony blair has...</td>\n",
       "      <td>politics</td>\n",
       "    </tr>\n",
       "    <tr>\n",
       "      <th>4</th>\n",
       "      <td>quiksilver moves for rossignol shares of skis ...</td>\n",
       "      <td>business</td>\n",
       "    </tr>\n",
       "    <tr>\n",
       "      <th>5</th>\n",
       "      <td>cup holders man utd visit everton holders manc...</td>\n",
       "      <td>sport</td>\n",
       "    </tr>\n",
       "    <tr>\n",
       "      <th>6</th>\n",
       "      <td>us tv cuts nudity from bbc film a us tv networ...</td>\n",
       "      <td>entertainment</td>\n",
       "    </tr>\n",
       "    <tr>\n",
       "      <th>7</th>\n",
       "      <td>mobile audio enters new dimension as mobile ph...</td>\n",
       "      <td>tech</td>\n",
       "    </tr>\n",
       "    <tr>\n",
       "      <th>8</th>\n",
       "      <td>lib dems unveil election slogan the liberal de...</td>\n",
       "      <td>politics</td>\n",
       "    </tr>\n",
       "    <tr>\n",
       "      <th>9</th>\n",
       "      <td>india-pakistan peace boosts trade calmer relat...</td>\n",
       "      <td>business</td>\n",
       "    </tr>\n",
       "  </tbody>\n",
       "</table>\n",
       "</div>"
      ],
      "text/plain": [
       "                                                Text       Category\n",
       "0  willis sues over movie  injury  actor bruce wi...  entertainment\n",
       "1  souped-up wi-fi is on the horizon super high-s...           tech\n",
       "2  apple unveils low-cost  mac mini  apple has un...           tech\n",
       "3  blair rejects iraq advice calls tony blair has...       politics\n",
       "4  quiksilver moves for rossignol shares of skis ...       business\n",
       "5  cup holders man utd visit everton holders manc...          sport\n",
       "6  us tv cuts nudity from bbc film a us tv networ...  entertainment\n",
       "7  mobile audio enters new dimension as mobile ph...           tech\n",
       "8  lib dems unveil election slogan the liberal de...       politics\n",
       "9  india-pakistan peace boosts trade calmer relat...       business"
      ]
     },
     "execution_count": 38,
     "metadata": {},
     "output_type": "execute_result"
    }
   ],
   "source": [
    "df_train.head(10)"
   ]
  },
  {
   "cell_type": "code",
   "execution_count": 10,
   "metadata": {
    "execution": {
     "iopub.execute_input": "2024-12-16T17:16:15.936673Z",
     "iopub.status.busy": "2024-12-16T17:16:15.935718Z",
     "iopub.status.idle": "2024-12-16T17:16:15.965100Z",
     "shell.execute_reply": "2024-12-16T17:16:15.963684Z",
     "shell.execute_reply.started": "2024-12-16T17:16:15.936619Z"
    },
    "trusted": true
   },
   "outputs": [
    {
     "name": "stdout",
     "output_type": "stream",
     "text": [
      "        Category  count\n",
      "0       business    228\n",
      "1  entertainment    194\n",
      "2       politics    188\n",
      "3          sport    245\n",
      "4           tech    188\n"
     ]
    }
   ],
   "source": [
    "df_train_category = df_train.groupby('Category').size().reset_index(name='count')\n",
    "print(df_train_category.head())"
   ]
  },
  {
   "cell_type": "code",
   "execution_count": 11,
   "metadata": {
    "execution": {
     "iopub.execute_input": "2024-12-16T17:16:15.967458Z",
     "iopub.status.busy": "2024-12-16T17:16:15.966939Z",
     "iopub.status.idle": "2024-12-16T17:16:15.987931Z",
     "shell.execute_reply": "2024-12-16T17:16:15.986603Z",
     "shell.execute_reply.started": "2024-12-16T17:16:15.967405Z"
    },
    "trusted": true
   },
   "outputs": [
    {
     "data": {
      "text/html": [
       "<div>\n",
       "<style scoped>\n",
       "    .dataframe tbody tr th:only-of-type {\n",
       "        vertical-align: middle;\n",
       "    }\n",
       "\n",
       "    .dataframe tbody tr th {\n",
       "        vertical-align: top;\n",
       "    }\n",
       "\n",
       "    .dataframe thead th {\n",
       "        text-align: right;\n",
       "    }\n",
       "</style>\n",
       "<table border=\"1\" class=\"dataframe\">\n",
       "  <thead>\n",
       "    <tr style=\"text-align: right;\">\n",
       "      <th></th>\n",
       "      <th>Category</th>\n",
       "      <th>count</th>\n",
       "    </tr>\n",
       "  </thead>\n",
       "  <tbody>\n",
       "    <tr>\n",
       "      <th>0</th>\n",
       "      <td>business</td>\n",
       "      <td>228</td>\n",
       "    </tr>\n",
       "    <tr>\n",
       "      <th>1</th>\n",
       "      <td>entertainment</td>\n",
       "      <td>194</td>\n",
       "    </tr>\n",
       "    <tr>\n",
       "      <th>2</th>\n",
       "      <td>politics</td>\n",
       "      <td>188</td>\n",
       "    </tr>\n",
       "    <tr>\n",
       "      <th>3</th>\n",
       "      <td>sport</td>\n",
       "      <td>245</td>\n",
       "    </tr>\n",
       "    <tr>\n",
       "      <th>4</th>\n",
       "      <td>tech</td>\n",
       "      <td>188</td>\n",
       "    </tr>\n",
       "  </tbody>\n",
       "</table>\n",
       "</div>"
      ],
      "text/plain": [
       "        Category  count\n",
       "0       business    228\n",
       "1  entertainment    194\n",
       "2       politics    188\n",
       "3          sport    245\n",
       "4           tech    188"
      ]
     },
     "execution_count": 11,
     "metadata": {},
     "output_type": "execute_result"
    }
   ],
   "source": [
    "df_train_category.head()"
   ]
  },
  {
   "cell_type": "code",
   "execution_count": 12,
   "metadata": {
    "execution": {
     "iopub.execute_input": "2024-12-16T17:16:19.900991Z",
     "iopub.status.busy": "2024-12-16T17:16:19.900590Z",
     "iopub.status.idle": "2024-12-16T17:16:20.308009Z",
     "shell.execute_reply": "2024-12-16T17:16:20.306064Z",
     "shell.execute_reply.started": "2024-12-16T17:16:19.900958Z"
    },
    "trusted": true
   },
   "outputs": [
    {
     "ename": "AttributeError",
     "evalue": "'DataFrame' object has no attribute 'to_frame'",
     "output_type": "error",
     "traceback": [
      "\u001b[0;31m---------------------------------------------------------------------------\u001b[0m",
      "\u001b[0;31mAttributeError\u001b[0m                            Traceback (most recent call last)",
      "\u001b[0;32m/tmp/ipykernel_30/1582408707.py\u001b[0m in \u001b[0;36m?\u001b[0;34m()\u001b[0m\n\u001b[1;32m      1\u001b[0m \u001b[0;31m#type(df_train_category)\u001b[0m\u001b[0;34m\u001b[0m\u001b[0;34m\u001b[0m\u001b[0m\n\u001b[1;32m      2\u001b[0m \u001b[0;31m#print(df_train_category)\u001b[0m\u001b[0;34m\u001b[0m\u001b[0;34m\u001b[0m\u001b[0m\n\u001b[0;32m----> 3\u001b[0;31m \u001b[0mdf_train_category\u001b[0m \u001b[0;34m=\u001b[0m \u001b[0mdf_train_category\u001b[0m\u001b[0;34m.\u001b[0m\u001b[0mto_frame\u001b[0m\u001b[0;34m(\u001b[0m\u001b[0;34m)\u001b[0m\u001b[0;34m\u001b[0m\u001b[0;34m\u001b[0m\u001b[0m\n\u001b[0m",
      "\u001b[0;32m/opt/conda/lib/python3.10/site-packages/pandas/core/generic.py\u001b[0m in \u001b[0;36m?\u001b[0;34m(self, name)\u001b[0m\n\u001b[1;32m   6295\u001b[0m             \u001b[0;32mand\u001b[0m \u001b[0mname\u001b[0m \u001b[0;32mnot\u001b[0m \u001b[0;32min\u001b[0m \u001b[0mself\u001b[0m\u001b[0;34m.\u001b[0m\u001b[0m_accessors\u001b[0m\u001b[0;34m\u001b[0m\u001b[0;34m\u001b[0m\u001b[0m\n\u001b[1;32m   6296\u001b[0m             \u001b[0;32mand\u001b[0m \u001b[0mself\u001b[0m\u001b[0;34m.\u001b[0m\u001b[0m_info_axis\u001b[0m\u001b[0;34m.\u001b[0m\u001b[0m_can_hold_identifiers_and_holds_name\u001b[0m\u001b[0;34m(\u001b[0m\u001b[0mname\u001b[0m\u001b[0;34m)\u001b[0m\u001b[0;34m\u001b[0m\u001b[0;34m\u001b[0m\u001b[0m\n\u001b[1;32m   6297\u001b[0m         ):\n\u001b[1;32m   6298\u001b[0m             \u001b[0;32mreturn\u001b[0m \u001b[0mself\u001b[0m\u001b[0;34m[\u001b[0m\u001b[0mname\u001b[0m\u001b[0;34m]\u001b[0m\u001b[0;34m\u001b[0m\u001b[0;34m\u001b[0m\u001b[0m\n\u001b[0;32m-> 6299\u001b[0;31m         \u001b[0;32mreturn\u001b[0m \u001b[0mobject\u001b[0m\u001b[0;34m.\u001b[0m\u001b[0m__getattribute__\u001b[0m\u001b[0;34m(\u001b[0m\u001b[0mself\u001b[0m\u001b[0;34m,\u001b[0m \u001b[0mname\u001b[0m\u001b[0;34m)\u001b[0m\u001b[0;34m\u001b[0m\u001b[0;34m\u001b[0m\u001b[0m\n\u001b[0m",
      "\u001b[0;31mAttributeError\u001b[0m: 'DataFrame' object has no attribute 'to_frame'"
     ]
    }
   ],
   "source": [
    "#type(df_train_category)\n",
    "#print(df_train_category)\n",
    "df_train_category = df_train_category.to_frame()"
   ]
  },
  {
   "cell_type": "code",
   "execution_count": null,
   "metadata": {
    "execution": {
     "iopub.status.busy": "2024-12-04T12:00:55.009320Z",
     "iopub.status.idle": "2024-12-04T12:00:55.009626Z",
     "shell.execute_reply": "2024-12-04T12:00:55.009474Z",
     "shell.execute_reply.started": "2024-12-04T12:00:55.009461Z"
    },
    "trusted": true
   },
   "outputs": [],
   "source": [
    "#import seaborn as sns\n",
    "#df_train_category.reset_index()"
   ]
  },
  {
   "cell_type": "code",
   "execution_count": 13,
   "metadata": {
    "execution": {
     "iopub.execute_input": "2024-12-16T17:16:31.791214Z",
     "iopub.status.busy": "2024-12-16T17:16:31.790688Z",
     "iopub.status.idle": "2024-12-16T17:16:31.801188Z",
     "shell.execute_reply": "2024-12-16T17:16:31.799639Z",
     "shell.execute_reply.started": "2024-12-16T17:16:31.791146Z"
    },
    "trusted": true
   },
   "outputs": [
    {
     "data": {
      "text/plain": [
       "0    228\n",
       "1    194\n",
       "2    188\n",
       "3    245\n",
       "4    188\n",
       "Name: count, dtype: int64"
      ]
     },
     "execution_count": 13,
     "metadata": {},
     "output_type": "execute_result"
    }
   ],
   "source": [
    "import matplotlib.pyplot as plt\n",
    "df_train_category['count']"
   ]
  },
  {
   "cell_type": "code",
   "execution_count": 17,
   "metadata": {
    "execution": {
     "iopub.execute_input": "2024-12-16T17:17:49.021364Z",
     "iopub.status.busy": "2024-12-16T17:17:49.020734Z",
     "iopub.status.idle": "2024-12-16T17:17:49.327372Z",
     "shell.execute_reply": "2024-12-16T17:17:49.325568Z",
     "shell.execute_reply.started": "2024-12-16T17:17:49.021307Z"
    },
    "trusted": true
   },
   "outputs": [
    {
     "data": {
      "image/png": "[encoded data removed]",
      "text/plain": [
       "<Figure size 800x800 with 1 Axes>"
      ]
     },
     "metadata": {},
     "output_type": "display_data"
    },
    {
     "ename": "TypeError",
     "evalue": "'DataFrame' object is not callable",
     "output_type": "error",
     "traceback": [
      "\u001b[0;31m---------------------------------------------------------------------------\u001b[0m",
      "\u001b[0;31mTypeError\u001b[0m                                 Traceback (most recent call last)",
      "Cell \u001b[0;32mIn[17], line 6\u001b[0m\n\u001b[1;32m      3\u001b[0m plt\u001b[38;5;241m.\u001b[39mtitle(\u001b[38;5;124m'\u001b[39m\u001b[38;5;124mPie chart of category of news\u001b[39m\u001b[38;5;124m'\u001b[39m)\n\u001b[1;32m      4\u001b[0m plt\u001b[38;5;241m.\u001b[39mshow()\n\u001b[0;32m----> 6\u001b[0m plt\u001b[38;5;241m.\u001b[39mbar(\u001b[43mdf_train_category\u001b[49m\u001b[43m(\u001b[49m\u001b[38;5;124;43m'\u001b[39;49m\u001b[38;5;124;43mcount\u001b[39;49m\u001b[38;5;124;43m'\u001b[39;49m\u001b[43m)\u001b[49m)\n",
      "\u001b[0;31mTypeError\u001b[0m: 'DataFrame' object is not callable"
     ]
    }
   ],
   "source": [
    "plt.figure(figsize=(8, 8))  # Optional: Adjust figure size\n",
    "plt.pie(df_train_category['count'], labels=df_train_category['Category'], autopct='%1.1f%%', startangle=90)\n",
    "plt.title('Pie chart of category of news')\n",
    "plt.show()\n"
   ]
  },
  {
   "cell_type": "code",
   "execution_count": 36,
   "metadata": {
    "execution": {
     "iopub.execute_input": "2024-12-16T17:21:33.368517Z",
     "iopub.status.busy": "2024-12-16T17:21:33.368023Z",
     "iopub.status.idle": "2024-12-16T17:21:33.597695Z",
     "shell.execute_reply": "2024-12-16T17:21:33.596492Z",
     "shell.execute_reply.started": "2024-12-16T17:21:33.368457Z"
    },
    "trusted": true
   },
   "outputs": [
    {
     "data": {
      "text/plain": [
       "<BarContainer object of 5 artists>"
      ]
     },
     "execution_count": 36,
     "metadata": {},
     "output_type": "execute_result"
    },
    {
     "data": {
      "image/png": "[encoded data removed]",
      "text/plain": [
       "<Figure size 640x480 with 1 Axes>"
      ]
     },
     "metadata": {},
     "output_type": "display_data"
    }
   ],
   "source": [
    "\n",
    "a = df_train_category['Category']\n",
    "plt.bar(a,color = []  )\n"
   ]
  },
  {
   "cell_type": "code",
   "execution_count": 14,
   "metadata": {
    "execution": {
     "iopub.execute_input": "2024-12-04T12:02:15.939174Z",
     "iopub.status.busy": "2024-12-04T12:02:15.938845Z",
     "iopub.status.idle": "2024-12-04T12:02:16.203426Z",
     "shell.execute_reply": "2024-12-04T12:02:16.202555Z",
     "shell.execute_reply.started": "2024-12-04T12:02:15.939144Z"
    },
    "trusted": true
   },
   "outputs": [],
   "source": [
    "combined_stopwords = set(stopwords.words('english'))\n",
    "text_cleaned = []\n",
    "for i in range(len(df_train)):\n",
    "    text = re.sub('[^a-zA-Z]', ' ', df_train['Text'][i])  \n",
    "    text = text.lower()  \n",
    "    text = text.split()  \n",
    "    text = [word for word in text if word not in combined_stopwords]  \n",
    "    cleaned_text = ' '.join(text)\n",
    "    text_cleaned.append(cleaned_text)\n",
    "\n",
    "text_cleaned1 = []\n",
    "for i in range(len(df_test)):\n",
    "    text1 = re.sub('[^a-zA-Z]', ' ', df_test['Text'][i])  \n",
    "    text1 = text1.lower()  \n",
    "    text1 = text1.split()  \n",
    "    text1 = [word1 for word1 in text1 if word1 not in combined_stopwords]  \n",
    "    cleaned_text1 = ' '.join(text1)\n",
    "    text_cleaned1.append(cleaned_text1)"
   ]
  },
  {
   "cell_type": "code",
   "execution_count": null,
   "metadata": {
    "collapsed": true,
    "jupyter": {
     "outputs_hidden": true
    },
    "trusted": true
   },
   "outputs": [],
   "source": []
  },
  {
   "cell_type": "code",
   "execution_count": null,
   "metadata": {
    "execution": {
     "iopub.status.busy": "2024-12-04T12:00:55.016532Z",
     "iopub.status.idle": "2024-12-04T12:00:55.016964Z",
     "shell.execute_reply": "2024-12-04T12:00:55.016769Z",
     "shell.execute_reply.started": "2024-12-04T12:00:55.016747Z"
    },
    "trusted": true
   },
   "outputs": [],
   "source": [
    "from wordcloud import WordCloud, STOPWORDS\n",
    "text = text_cleaned\n",
    "wordcloud = WordCloud().generate(text[2])\n",
    "plt.imshow(wordcloud)\n",
    "plt.show()"
   ]
  },
  {
   "cell_type": "code",
   "execution_count": 15,
   "metadata": {
    "execution": {
     "iopub.execute_input": "2024-12-04T12:02:20.683731Z",
     "iopub.status.busy": "2024-12-04T12:02:20.682848Z",
     "iopub.status.idle": "2024-12-04T12:02:20.934756Z",
     "shell.execute_reply": "2024-12-04T12:02:20.933554Z",
     "shell.execute_reply.started": "2024-12-04T12:02:20.683694Z"
    },
    "trusted": true
   },
   "outputs": [],
   "source": [
    "tokenizer = Tokenizer(num_words=5000, oov_token='<OOV>')\n",
    "\n",
    "tokenizer.fit_on_texts(text_cleaned)\n",
    "\n",
    "max_length = max(len(seq.split()) for seq in text_cleaned)\n",
    "\n",
    "sequences_encoded = tokenizer.texts_to_sequences(text_cleaned)\n",
    "\n",
    "X_train_final = pad_sequences(sequences_encoded, maxlen=max_length, padding='pre')\n"
   ]
  },
  {
   "cell_type": "code",
   "execution_count": null,
   "metadata": {
    "execution": {
     "iopub.execute_input": "2024-12-04T04:49:22.992927Z",
     "iopub.status.busy": "2024-12-04T04:49:22.992416Z",
     "iopub.status.idle": "2024-12-04T04:49:23.073394Z",
     "shell.execute_reply": "2024-12-04T04:49:23.072329Z",
     "shell.execute_reply.started": "2024-12-04T04:49:22.992884Z"
    },
    "trusted": true
   },
   "outputs": [],
   "source": [
    "tokenizer_json = tokenizer.to_json()\n",
    "with open(\"/kaggle/working/tokenizer.json\", \"w\") as json_file:\n",
    "    json_file.write(tokenizer_json)"
   ]
  },
  {
   "cell_type": "code",
   "execution_count": 18,
   "metadata": {
    "execution": {
     "iopub.execute_input": "2024-12-04T12:02:29.983785Z",
     "iopub.status.busy": "2024-12-04T12:02:29.982969Z",
     "iopub.status.idle": "2024-12-04T12:02:30.028707Z",
     "shell.execute_reply": "2024-12-04T12:02:30.027859Z",
     "shell.execute_reply.started": "2024-12-04T12:02:29.983749Z"
    },
    "trusted": true
   },
   "outputs": [],
   "source": [
    "\n",
    "sequences_encoded = tokenizer.texts_to_sequences(text_cleaned1)\n",
    "X_test_final = pad_sequences(sequences_encoded, maxlen=max_length, padding='pre')"
   ]
  },
  {
   "cell_type": "code",
   "execution_count": 19,
   "metadata": {
    "execution": {
     "iopub.execute_input": "2024-12-04T12:02:31.784467Z",
     "iopub.status.busy": "2024-12-04T12:02:31.783664Z",
     "iopub.status.idle": "2024-12-04T12:02:31.792204Z",
     "shell.execute_reply": "2024-12-04T12:02:31.791342Z",
     "shell.execute_reply.started": "2024-12-04T12:02:31.784418Z"
    },
    "trusted": true
   },
   "outputs": [],
   "source": [
    "y_train = df_train[['Category']]\n",
    "y_test = df_test[['Category']]\n",
    "X_train = df_train[['Text']]\n",
    "X_test = df_test[['Text']]"
   ]
  },
  {
   "cell_type": "code",
   "execution_count": 21,
   "metadata": {
    "execution": {
     "iopub.execute_input": "2024-12-04T12:02:37.937487Z",
     "iopub.status.busy": "2024-12-04T12:02:37.936811Z",
     "iopub.status.idle": "2024-12-04T12:02:37.946549Z",
     "shell.execute_reply": "2024-12-04T12:02:37.945874Z",
     "shell.execute_reply.started": "2024-12-04T12:02:37.937453Z"
    },
    "trusted": true
   },
   "outputs": [],
   "source": [
    "from sklearn.preprocessing import OneHotEncoder\n",
    "\n",
    "y_train = np.array(y_train).reshape(-1, 1)  \n",
    "y_test = np.array(y_test).reshape(-1, 1)    \n",
    "\n",
    "encoder = OneHotEncoder(sparse_output=False)  \n",
    "\n",
    "y_train_final = encoder.fit_transform(y_train)\n",
    "\n",
    "y_test_final = encoder.transform(y_test)"
   ]
  },
  {
   "cell_type": "code",
   "execution_count": null,
   "metadata": {
    "execution": {
     "iopub.execute_input": "2024-12-04T04:49:25.092544Z",
     "iopub.status.busy": "2024-12-04T04:49:25.092157Z",
     "iopub.status.idle": "2024-12-04T04:49:25.099123Z",
     "shell.execute_reply": "2024-12-04T04:49:25.097744Z",
     "shell.execute_reply.started": "2024-12-04T04:49:25.092513Z"
    },
    "trusted": true
   },
   "outputs": [],
   "source": [
    "category_mapping = encoder.categories_\n",
    "\n",
    "print(\"Categories:\", category_mapping)"
   ]
  },
  {
   "cell_type": "code",
   "execution_count": null,
   "metadata": {
    "execution": {
     "iopub.execute_input": "2024-12-04T04:49:25.684672Z",
     "iopub.status.busy": "2024-12-04T04:49:25.684233Z",
     "iopub.status.idle": "2024-12-04T04:49:25.690566Z",
     "shell.execute_reply": "2024-12-04T04:49:25.689468Z",
     "shell.execute_reply.started": "2024-12-04T04:49:25.684635Z"
    },
    "trusted": true
   },
   "outputs": [],
   "source": [
    "encoded_feature_names = encoder.get_feature_names_out(['Category'])\n",
    "print(\"Encoded feature names:\", encoded_feature_names)"
   ]
  },
  {
   "cell_type": "code",
   "execution_count": null,
   "metadata": {
    "execution": {
     "iopub.execute_input": "2024-12-04T04:49:26.600502Z",
     "iopub.status.busy": "2024-12-04T04:49:26.600076Z",
     "iopub.status.idle": "2024-12-04T04:49:26.609378Z",
     "shell.execute_reply": "2024-12-04T04:49:26.608057Z",
     "shell.execute_reply.started": "2024-12-04T04:49:26.600467Z"
    },
    "trusted": true
   },
   "outputs": [],
   "source": [
    "joblib.dump(encoder, '/kaggle/working/onehot_encoder.pkl')"
   ]
  },
  {
   "cell_type": "code",
   "execution_count": 52,
   "metadata": {
    "execution": {
     "iopub.execute_input": "2024-12-04T12:18:50.734754Z",
     "iopub.status.busy": "2024-12-04T12:18:50.734065Z",
     "iopub.status.idle": "2024-12-04T12:19:18.773013Z",
     "shell.execute_reply": "2024-12-04T12:19:18.772127Z",
     "shell.execute_reply.started": "2024-12-04T12:18:50.734718Z"
    },
    "trusted": true
   },
   "outputs": [
    {
     "data": {
      "text/html": [
       "<pre style=\"white-space:pre;overflow-x:auto;line-height:normal;font-family:Menlo,'DejaVu Sans Mono',consolas,'Courier New',monospace\"><span style=\"font-weight: bold\">Model: \"sequential_3\"</span>\n",
       "</pre>\n"
      ],
      "text/plain": [
       "\u001b[1mModel: \"sequential_3\"\u001b[0m\n"
      ]
     },
     "metadata": {},
     "output_type": "display_data"
    },
    {
     "data": {
      "text/html": [
       "<pre style=\"white-space:pre;overflow-x:auto;line-height:normal;font-family:Menlo,'DejaVu Sans Mono',consolas,'Courier New',monospace\">┏━━━━━━━━━━━━━━━━━━━━━━━━━━━━━━━━━┳━━━━━━━━━━━━━━━━━━━━━━━━┳━━━━━━━━━━━━━━━┓\n",
       "┃<span style=\"font-weight: bold\"> Layer (type)                    </span>┃<span style=\"font-weight: bold\"> Output Shape           </span>┃<span style=\"font-weight: bold\">       Param # </span>┃\n",
       "┡━━━━━━━━━━━━━━━━━━━━━━━━━━━━━━━━━╇━━━━━━━━━━━━━━━━━━━━━━━━╇━━━━━━━━━━━━━━━┩\n",
       "│ embedding_3 (<span style=\"color: #0087ff; text-decoration-color: #0087ff\">Embedding</span>)         │ ?                      │   <span style=\"color: #00af00; text-decoration-color: #00af00\">0</span> (unbuilt) │\n",
       "├─────────────────────────────────┼────────────────────────┼───────────────┤\n",
       "│ lstm_3 (<span style=\"color: #0087ff; text-decoration-color: #0087ff\">LSTM</span>)                   │ ?                      │   <span style=\"color: #00af00; text-decoration-color: #00af00\">0</span> (unbuilt) │\n",
       "├─────────────────────────────────┼────────────────────────┼───────────────┤\n",
       "│ dropout_6 (<span style=\"color: #0087ff; text-decoration-color: #0087ff\">Dropout</span>)             │ ?                      │   <span style=\"color: #00af00; text-decoration-color: #00af00\">0</span> (unbuilt) │\n",
       "├─────────────────────────────────┼────────────────────────┼───────────────┤\n",
       "│ dense_6 (<span style=\"color: #0087ff; text-decoration-color: #0087ff\">Dense</span>)                 │ ?                      │   <span style=\"color: #00af00; text-decoration-color: #00af00\">0</span> (unbuilt) │\n",
       "├─────────────────────────────────┼────────────────────────┼───────────────┤\n",
       "│ dropout_7 (<span style=\"color: #0087ff; text-decoration-color: #0087ff\">Dropout</span>)             │ ?                      │   <span style=\"color: #00af00; text-decoration-color: #00af00\">0</span> (unbuilt) │\n",
       "├─────────────────────────────────┼────────────────────────┼───────────────┤\n",
       "│ dense_7 (<span style=\"color: #0087ff; text-decoration-color: #0087ff\">Dense</span>)                 │ ?                      │   <span style=\"color: #00af00; text-decoration-color: #00af00\">0</span> (unbuilt) │\n",
       "└─────────────────────────────────┴────────────────────────┴───────────────┘\n",
       "</pre>\n"
      ],
      "text/plain": [
       "┏━━━━━━━━━━━━━━━━━━━━━━━━━━━━━━━━━┳━━━━━━━━━━━━━━━━━━━━━━━━┳━━━━━━━━━━━━━━━┓\n",
       "┃\u001b[1m \u001b[0m\u001b[1mLayer (type)                   \u001b[0m\u001b[1m \u001b[0m┃\u001b[1m \u001b[0m\u001b[1mOutput Shape          \u001b[0m\u001b[1m \u001b[0m┃\u001b[1m \u001b[0m\u001b[1m      Param #\u001b[0m\u001b[1m \u001b[0m┃\n",
       "┡━━━━━━━━━━━━━━━━━━━━━━━━━━━━━━━━━╇━━━━━━━━━━━━━━━━━━━━━━━━╇━━━━━━━━━━━━━━━┩\n",
       "│ embedding_3 (\u001b[38;5;33mEmbedding\u001b[0m)         │ ?                      │   \u001b[38;5;34m0\u001b[0m (unbuilt) │\n",
       "├─────────────────────────────────┼────────────────────────┼───────────────┤\n",
       "│ lstm_3 (\u001b[38;5;33mLSTM\u001b[0m)                   │ ?                      │   \u001b[38;5;34m0\u001b[0m (unbuilt) │\n",
       "├─────────────────────────────────┼────────────────────────┼───────────────┤\n",
       "│ dropout_6 (\u001b[38;5;33mDropout\u001b[0m)             │ ?                      │   \u001b[38;5;34m0\u001b[0m (unbuilt) │\n",
       "├─────────────────────────────────┼────────────────────────┼───────────────┤\n",
       "│ dense_6 (\u001b[38;5;33mDense\u001b[0m)                 │ ?                      │   \u001b[38;5;34m0\u001b[0m (unbuilt) │\n",
       "├─────────────────────────────────┼────────────────────────┼───────────────┤\n",
       "│ dropout_7 (\u001b[38;5;33mDropout\u001b[0m)             │ ?                      │   \u001b[38;5;34m0\u001b[0m (unbuilt) │\n",
       "├─────────────────────────────────┼────────────────────────┼───────────────┤\n",
       "│ dense_7 (\u001b[38;5;33mDense\u001b[0m)                 │ ?                      │   \u001b[38;5;34m0\u001b[0m (unbuilt) │\n",
       "└─────────────────────────────────┴────────────────────────┴───────────────┘\n"
      ]
     },
     "metadata": {},
     "output_type": "display_data"
    },
    {
     "data": {
      "text/html": [
       "<pre style=\"white-space:pre;overflow-x:auto;line-height:normal;font-family:Menlo,'DejaVu Sans Mono',consolas,'Courier New',monospace\"><span style=\"font-weight: bold\"> Total params: </span><span style=\"color: #00af00; text-decoration-color: #00af00\">0</span> (0.00 B)\n",
       "</pre>\n"
      ],
      "text/plain": [
       "\u001b[1m Total params: \u001b[0m\u001b[38;5;34m0\u001b[0m (0.00 B)\n"
      ]
     },
     "metadata": {},
     "output_type": "display_data"
    },
    {
     "data": {
      "text/html": [
       "<pre style=\"white-space:pre;overflow-x:auto;line-height:normal;font-family:Menlo,'DejaVu Sans Mono',consolas,'Courier New',monospace\"><span style=\"font-weight: bold\"> Trainable params: </span><span style=\"color: #00af00; text-decoration-color: #00af00\">0</span> (0.00 B)\n",
       "</pre>\n"
      ],
      "text/plain": [
       "\u001b[1m Trainable params: \u001b[0m\u001b[38;5;34m0\u001b[0m (0.00 B)\n"
      ]
     },
     "metadata": {},
     "output_type": "display_data"
    },
    {
     "data": {
      "text/html": [
       "<pre style=\"white-space:pre;overflow-x:auto;line-height:normal;font-family:Menlo,'DejaVu Sans Mono',consolas,'Courier New',monospace\"><span style=\"font-weight: bold\"> Non-trainable params: </span><span style=\"color: #00af00; text-decoration-color: #00af00\">0</span> (0.00 B)\n",
       "</pre>\n"
      ],
      "text/plain": [
       "\u001b[1m Non-trainable params: \u001b[0m\u001b[38;5;34m0\u001b[0m (0.00 B)\n"
      ]
     },
     "metadata": {},
     "output_type": "display_data"
    },
    {
     "name": "stdout",
     "output_type": "stream",
     "text": [
      "Epoch 1/15\n",
      "\u001b[1m33/33\u001b[0m \u001b[32m━━━━━━━━━━━━━━━━━━━━\u001b[0m\u001b[37m\u001b[0m \u001b[1m4s\u001b[0m 60ms/step - acc: 0.2646 - loss: 1.6005 - val_acc: 0.1973 - val_loss: 1.7633\n",
      "Epoch 2/15\n",
      "\u001b[1m33/33\u001b[0m \u001b[32m━━━━━━━━━━━━━━━━━━━━\u001b[0m\u001b[37m\u001b[0m \u001b[1m2s\u001b[0m 51ms/step - acc: 0.4442 - loss: 1.1885 - val_acc: 0.1810 - val_loss: 2.6990\n",
      "Epoch 3/15\n",
      "\u001b[1m33/33\u001b[0m \u001b[32m━━━━━━━━━━━━━━━━━━━━\u001b[0m\u001b[37m\u001b[0m \u001b[1m2s\u001b[0m 51ms/step - acc: 0.6585 - loss: 0.8210 - val_acc: 0.1959 - val_loss: 3.3044\n",
      "Epoch 4/15\n",
      "\u001b[1m33/33\u001b[0m \u001b[32m━━━━━━━━━━━━━━━━━━━━\u001b[0m\u001b[37m\u001b[0m \u001b[1m2s\u001b[0m 51ms/step - acc: 0.8821 - loss: 0.3319 - val_acc: 0.1878 - val_loss: 3.7988\n",
      "Epoch 5/15\n",
      "\u001b[1m33/33\u001b[0m \u001b[32m━━━━━━━━━━━━━━━━━━━━\u001b[0m\u001b[37m\u001b[0m \u001b[1m2s\u001b[0m 53ms/step - acc: 0.9569 - loss: 0.1766 - val_acc: 0.2122 - val_loss: 3.9937\n",
      "Epoch 6/15\n",
      "\u001b[1m33/33\u001b[0m \u001b[32m━━━━━━━━━━━━━━━━━━━━\u001b[0m\u001b[37m\u001b[0m \u001b[1m2s\u001b[0m 52ms/step - acc: 0.8698 - loss: 0.3624 - val_acc: 0.1932 - val_loss: 4.7402\n",
      "Epoch 7/15\n",
      "\u001b[1m33/33\u001b[0m \u001b[32m━━━━━━━━━━━━━━━━━━━━\u001b[0m\u001b[37m\u001b[0m \u001b[1m2s\u001b[0m 53ms/step - acc: 0.9900 - loss: 0.0584 - val_acc: 0.2041 - val_loss: 5.7733\n",
      "Epoch 8/15\n",
      "\u001b[1m33/33\u001b[0m \u001b[32m━━━━━━━━━━━━━━━━━━━━\u001b[0m\u001b[37m\u001b[0m \u001b[1m2s\u001b[0m 52ms/step - acc: 0.9927 - loss: 0.0244 - val_acc: 0.2109 - val_loss: 6.4495\n",
      "Epoch 9/15\n",
      "\u001b[1m33/33\u001b[0m \u001b[32m━━━━━━━━━━━━━━━━━━━━\u001b[0m\u001b[37m\u001b[0m \u001b[1m2s\u001b[0m 53ms/step - acc: 0.9445 - loss: 0.2428 - val_acc: 0.2000 - val_loss: 6.1509\n",
      "Epoch 10/15\n",
      "\u001b[1m33/33\u001b[0m \u001b[32m━━━━━━━━━━━━━━━━━━━━\u001b[0m\u001b[37m\u001b[0m \u001b[1m2s\u001b[0m 53ms/step - acc: 0.9977 - loss: 0.0143 - val_acc: 0.2041 - val_loss: 6.8847\n",
      "Epoch 11/15\n",
      "\u001b[1m33/33\u001b[0m \u001b[32m━━━━━━━━━━━━━━━━━━━━\u001b[0m\u001b[37m\u001b[0m \u001b[1m2s\u001b[0m 53ms/step - acc: 1.0000 - loss: 0.0029 - val_acc: 0.2014 - val_loss: 7.2682\n",
      "Epoch 12/15\n",
      "\u001b[1m33/33\u001b[0m \u001b[32m━━━━━━━━━━━━━━━━━━━━\u001b[0m\u001b[37m\u001b[0m \u001b[1m2s\u001b[0m 53ms/step - acc: 1.0000 - loss: 0.0021 - val_acc: 0.2068 - val_loss: 7.6193\n",
      "Epoch 13/15\n",
      "\u001b[1m33/33\u001b[0m \u001b[32m━━━━━━━━━━━━━━━━━━━━\u001b[0m\u001b[37m\u001b[0m \u001b[1m2s\u001b[0m 53ms/step - acc: 1.0000 - loss: 0.0012 - val_acc: 0.2027 - val_loss: 7.8665\n",
      "Epoch 14/15\n",
      "\u001b[1m33/33\u001b[0m \u001b[32m━━━━━━━━━━━━━━━━━━━━\u001b[0m\u001b[37m\u001b[0m \u001b[1m2s\u001b[0m 53ms/step - acc: 1.0000 - loss: 9.4564e-04 - val_acc: 0.2014 - val_loss: 8.0364\n",
      "Epoch 15/15\n",
      "\u001b[1m33/33\u001b[0m \u001b[32m━━━━━━━━━━━━━━━━━━━━\u001b[0m\u001b[37m\u001b[0m \u001b[1m2s\u001b[0m 53ms/step - acc: 1.0000 - loss: 7.9350e-04 - val_acc: 0.2014 - val_loss: 8.2036\n"
     ]
    }
   ],
   "source": [
    "model = Sequential()\n",
    "model.add(Embedding(input_dim=5001, output_dim=128, input_length=11499))\n",
    "model.add(LSTM(128, return_sequences=False))\n",
    "model.add(Dropout(0.2))\n",
    "model.add(Dense(256, activation='relu'))\n",
    "model.add(Dropout(0.2))\n",
    "model.add(Dense(5, activation='softmax'))\n",
    "model.compile(optimizer='adam', loss='categorical_crossentropy', metrics=['acc'])\n",
    "\n",
    "summary = model.summary()\n",
    "\n",
    "#early_stopping = EarlyStopping(monitor='acc', patience=3, , restore_best_weights=True)\n",
    "\n",
    "history = model.fit(X_train_final, y_train_final, validation_data=(y_testing_final, y_test_final),\n",
    "                    epochs=15, batch_size=32)\n",
    "\n",
    "\n"
   ]
  },
  {
   "cell_type": "code",
   "execution_count": null,
   "metadata": {
    "execution": {
     "iopub.execute_input": "2024-12-03T08:24:01.353164Z",
     "iopub.status.busy": "2024-12-03T08:24:01.352430Z",
     "iopub.status.idle": "2024-12-03T08:24:01.394133Z",
     "shell.execute_reply": "2024-12-03T08:24:01.393509Z",
     "shell.execute_reply.started": "2024-12-03T08:24:01.353122Z"
    },
    "trusted": true
   },
   "outputs": [],
   "source": [
    "#model.save('/kaggle/working/model.h5')"
   ]
  },
  {
   "cell_type": "code",
   "execution_count": null,
   "metadata": {
    "execution": {
     "iopub.execute_input": "2024-12-04T04:54:08.000460Z",
     "iopub.status.busy": "2024-12-04T04:54:07.999946Z",
     "iopub.status.idle": "2024-12-04T04:54:08.006852Z",
     "shell.execute_reply": "2024-12-04T04:54:08.005130Z",
     "shell.execute_reply.started": "2024-12-04T04:54:08.000408Z"
    },
    "trusted": true
   },
   "outputs": [],
   "source": [
    "from sklearn.metrics import confusion_matrix"
   ]
  },
  {
   "cell_type": "code",
   "execution_count": null,
   "metadata": {
    "execution": {
     "iopub.execute_input": "2024-12-04T04:55:48.133106Z",
     "iopub.status.busy": "2024-12-04T04:55:48.132646Z",
     "iopub.status.idle": "2024-12-04T04:56:07.207356Z",
     "shell.execute_reply": "2024-12-04T04:56:07.206127Z",
     "shell.execute_reply.started": "2024-12-04T04:55:48.133071Z"
    },
    "trusted": true
   },
   "outputs": [],
   "source": [
    "y_pred = model.predict(X_train_final)"
   ]
  },
  {
   "cell_type": "code",
   "execution_count": null,
   "metadata": {
    "execution": {
     "iopub.execute_input": "2024-12-03T08:24:01.395551Z",
     "iopub.status.busy": "2024-12-03T08:24:01.395277Z",
     "iopub.status.idle": "2024-12-03T08:24:01.400114Z",
     "shell.execute_reply": "2024-12-03T08:24:01.399334Z",
     "shell.execute_reply.started": "2024-12-03T08:24:01.395524Z"
    },
    "trusted": true
   },
   "outputs": [],
   "source": [
    "text = 'hewitt overcomes wobble in sydney lleyton hewitt gave himself the perfect preparation for next week s australian open with victory over ivo minar in the final of the sydney international.  the defending champion brushed aside the czech qualifier 7-5 6-0. the australian world number three strolled to the first five games of the match but was shocked as minar won the next five. the top seed was rattled but recovered to close out the set and raced to victory in exactly an hour.  it was a strange match . . . momentum swings   said hewitt.  i felt like i came out of the blocks extremely well  but then he loosened up a bit.  when he got back to 5-5  i had to try to settle down and take it up a notch  and i was able to do that.   hewitt has now lifted the sydney title four times in the last six years.  it just keeps getting better and better every year   hewitt said.  i ve only played this tournament four times and i ve won it four times.  hewitt went into the final as a short-priced favourite to clinch his 24th career title after dropping only one set all week. he is set to meet frenchman arnaud clement in the first round of the australian open. minar  ranked 158th in the world  was forced to pull out of the australian open qualifying draw to play in his first atp final.  for me  this was a big success   said the 20-year-old.  i was so nervous last night i couldn t sleep. i ve never played a top-10 player before.  i wanted to play qualifying in melbourne  but it s saturday and i m still here. but this is a main draw and i need the points and the money.  alicia molik takes on samantha stosur in an all-australian women s final later on saturday.'"
   ]
  },
  {
   "cell_type": "code",
   "execution_count": null,
   "metadata": {
    "execution": {
     "iopub.execute_input": "2024-12-03T08:24:01.401857Z",
     "iopub.status.busy": "2024-12-03T08:24:01.401114Z",
     "iopub.status.idle": "2024-12-03T08:24:01.414876Z",
     "shell.execute_reply": "2024-12-03T08:24:01.413951Z",
     "shell.execute_reply.started": "2024-12-03T08:24:01.401829Z"
    },
    "trusted": true
   },
   "outputs": [],
   "source": [
    "df_new = pd.DataFrame({'Text': [text]})"
   ]
  },
  {
   "cell_type": "code",
   "execution_count": null,
   "metadata": {
    "execution": {
     "iopub.execute_input": "2024-12-03T08:24:01.416245Z",
     "iopub.status.busy": "2024-12-03T08:24:01.415901Z",
     "iopub.status.idle": "2024-12-03T08:24:01.429969Z",
     "shell.execute_reply": "2024-12-03T08:24:01.429086Z",
     "shell.execute_reply.started": "2024-12-03T08:24:01.416205Z"
    },
    "trusted": true
   },
   "outputs": [],
   "source": [
    "df_new"
   ]
  },
  {
   "cell_type": "code",
   "execution_count": null,
   "metadata": {
    "execution": {
     "iopub.execute_input": "2024-12-03T08:24:01.431716Z",
     "iopub.status.busy": "2024-12-03T08:24:01.431385Z",
     "iopub.status.idle": "2024-12-03T08:24:01.438569Z",
     "shell.execute_reply": "2024-12-03T08:24:01.437712Z",
     "shell.execute_reply.started": "2024-12-03T08:24:01.431681Z"
    },
    "trusted": true
   },
   "outputs": [],
   "source": [
    "text_cleaned1 = []\n",
    "for i in range(len(df_new)):\n",
    "    text1 = re.sub('[^a-zA-Z0-9]', ' ', df_new['Text'][i])  \n",
    "    text1 = text1.lower()  \n",
    "    text1 = text1.split()  \n",
    "    text1 = [word1 for word1 in text1 if word1 not in combined_stopwords]  \n",
    "    cleaned_text1 = ' '.join(text1)\n",
    "    text_cleaned1.append(cleaned_text1)\n",
    "\n",
    "sequences_encoded1 = tokenizer.texts_to_sequences(text_cleaned1)\n",
    "\n",
    "Xy_trial = pad_sequences(sequences_encoded1, maxlen=max_length, padding='pre')"
   ]
  },
  {
   "cell_type": "code",
   "execution_count": null,
   "metadata": {
    "execution": {
     "iopub.execute_input": "2024-12-03T08:24:01.439938Z",
     "iopub.status.busy": "2024-12-03T08:24:01.439620Z",
     "iopub.status.idle": "2024-12-03T08:24:01.451784Z",
     "shell.execute_reply": "2024-12-03T08:24:01.450955Z",
     "shell.execute_reply.started": "2024-12-03T08:24:01.439902Z"
    },
    "trusted": true
   },
   "outputs": [],
   "source": [
    "Xy_trial"
   ]
  },
  {
   "cell_type": "code",
   "execution_count": null,
   "metadata": {
    "execution": {
     "iopub.execute_input": "2024-12-03T08:24:01.453089Z",
     "iopub.status.busy": "2024-12-03T08:24:01.452757Z",
     "iopub.status.idle": "2024-12-03T08:24:01.628405Z",
     "shell.execute_reply": "2024-12-03T08:24:01.627734Z",
     "shell.execute_reply.started": "2024-12-03T08:24:01.453054Z"
    },
    "trusted": true
   },
   "outputs": [],
   "source": [
    "prediction = model.predict(Xy_trial)"
   ]
  },
  {
   "cell_type": "code",
   "execution_count": null,
   "metadata": {
    "execution": {
     "iopub.execute_input": "2024-12-03T08:24:01.632172Z",
     "iopub.status.busy": "2024-12-03T08:24:01.631914Z",
     "iopub.status.idle": "2024-12-03T08:24:01.637329Z",
     "shell.execute_reply": "2024-12-03T08:24:01.636429Z",
     "shell.execute_reply.started": "2024-12-03T08:24:01.632147Z"
    },
    "trusted": true
   },
   "outputs": [],
   "source": [
    "print(prediction)\n",
    "prediction_inverted = encoder.inverse_transform(prediction)"
   ]
  },
  {
   "cell_type": "code",
   "execution_count": null,
   "metadata": {
    "execution": {
     "iopub.execute_input": "2024-12-03T08:24:01.638873Z",
     "iopub.status.busy": "2024-12-03T08:24:01.638544Z",
     "iopub.status.idle": "2024-12-03T08:24:01.648418Z",
     "shell.execute_reply": "2024-12-03T08:24:01.647629Z",
     "shell.execute_reply.started": "2024-12-03T08:24:01.638836Z"
    },
    "trusted": true
   },
   "outputs": [],
   "source": [
    "print(prediction_inverted)"
   ]
  },
  {
   "cell_type": "code",
   "execution_count": null,
   "metadata": {
    "execution": {
     "iopub.execute_input": "2024-12-03T08:24:45.848959Z",
     "iopub.status.busy": "2024-12-03T08:24:45.848363Z",
     "iopub.status.idle": "2024-12-03T08:24:45.852855Z",
     "shell.execute_reply": "2024-12-03T08:24:45.851976Z",
     "shell.execute_reply.started": "2024-12-03T08:24:45.848925Z"
    },
    "trusted": true
   },
   "outputs": [],
   "source": [
    "text2 = 'Despite its meteoric rise, pickleball faces challenges. Noise complaints from neighbors living near pickleball courts have been common, as the distinctive \"pop\" of the ball can be disruptive. Additionally, some tennis enthusiasts feel the rapid growth of pickleball has led to a decline in the availability of tennis courts.'"
   ]
  },
  {
   "cell_type": "code",
   "execution_count": null,
   "metadata": {
    "execution": {
     "iopub.execute_input": "2024-12-03T08:24:46.349401Z",
     "iopub.status.busy": "2024-12-03T08:24:46.348773Z",
     "iopub.status.idle": "2024-12-03T08:24:46.424314Z",
     "shell.execute_reply": "2024-12-03T08:24:46.423416Z",
     "shell.execute_reply.started": "2024-12-03T08:24:46.349370Z"
    },
    "trusted": true
   },
   "outputs": [],
   "source": [
    "df_new = pd.DataFrame({'Text': [text2]})\n",
    "text_cleaned1 = []\n",
    "for i in range(len(df_new)):\n",
    "    text1 = re.sub('[^a-zA-Z0-9]', ' ', df_new['Text'][i])  \n",
    "    text1 = text1.lower()  \n",
    "    text1 = text1.split()  \n",
    "    text1 = [word1 for word1 in text1 if word1 not in combined_stopwords]  \n",
    "    cleaned_text1 = ' '.join(text1)\n",
    "    text_cleaned1.append(cleaned_text1)\n",
    "\n",
    "sequences_encoded1 = tokenizer.texts_to_sequences(text_cleaned1)\n",
    "\n",
    "Xy_trial = pad_sequences(sequences_encoded1, maxlen=max_length, padding='pre')\n",
    "\n",
    "Xy_trial\n",
    "\n",
    "prediction = model.predict(Xy_trial)\n",
    "\n",
    "print(prediction)\n",
    "prediction_inverted = encoder.inverse_transform(prediction)\n",
    "print(prediction_inverted)"
   ]
  },
  {
   "cell_type": "code",
   "execution_count": null,
   "metadata": {
    "execution": {
     "iopub.execute_input": "2024-12-03T07:50:29.045735Z",
     "iopub.status.busy": "2024-12-03T07:50:29.045071Z",
     "iopub.status.idle": "2024-12-03T07:50:29.050031Z",
     "shell.execute_reply": "2024-12-03T07:50:29.049175Z",
     "shell.execute_reply.started": "2024-12-03T07:50:29.045699Z"
    },
    "trusted": true
   },
   "outputs": [],
   "source": []
  },
  {
   "cell_type": "code",
   "execution_count": null,
   "metadata": {
    "execution": {
     "iopub.execute_input": "2024-12-03T07:50:29.537213Z",
     "iopub.status.busy": "2024-12-03T07:50:29.536888Z",
     "iopub.status.idle": "2024-12-03T07:50:29.612225Z",
     "shell.execute_reply": "2024-12-03T07:50:29.611467Z",
     "shell.execute_reply.started": "2024-12-03T07:50:29.537182Z"
    },
    "trusted": true
   },
   "outputs": [],
   "source": [
    "text3 = 'howard  truanted to play snooker  conservative leader michael howard has admitted he used to play truant to spend time with his school friends at a snooker hall.  mr howard said his time at jack s snooker hall in llanelli in the 1950s had not done him  any lasting damage . but he told the times educational supplement that truancy was  very bad  and said  firm action  was needed. mr howard also called for a return to o-levels and more classroom discipline.  mr howard eventually left llanelli grammar school - and the snooker hall - to go to cambridge university. he said:  i don t think it s done me any lasting damage. nor has it made me a snooker world champion.  there might have been some occasions when we left early of an afternoon.   i m just being honest. i think truancy is a very bad thing and that firm action should be taken to deal with it.  another player who has failed to win snooker s world championship - jimmy  the whirlwind   white - has previously admitted missing lessons  instead spending his days in smoky halls.  tony meo [another player] and me used to spend all of our spare time there   mr white said   we loved the game and the atmosphere.  school went out of the window. i went for a while and then started taking time off.  mr howard s fellow welshman ray reardon - known by his fellow professionals as  dracula  - won the snooker world championship six times  having left school at 14 to work as a miner. and terry griffiths  like mr howard from llanelli  won the tournament in 1979. it is not known whether the two of them ever clashed cues at jack s.'\n",
    "df_new = pd.DataFrame({'Text': [text3]})\n",
    "text_cleaned1 = []\n",
    "for i in range(len(df_new)):\n",
    "    text1 = re.sub('[^a-zA-Z0-9]', ' ', df_new['Text'][i])  \n",
    "    text1 = text1.lower()  \n",
    "    text1 = text1.split()  \n",
    "    text1 = [word1 for word1 in text1 if word1 not in combined_stopwords]  \n",
    "    cleaned_text1 = ' '.join(text1)\n",
    "    text_cleaned1.append(cleaned_text1)\n",
    "\n",
    "sequences_encoded1 = tokenizer.texts_to_sequences(text_cleaned1)\n",
    "\n",
    "Xy_trial = pad_sequences(sequences_encoded1, maxlen=max_length, padding='pre')\n",
    "\n",
    "Xy_trial\n",
    "\n",
    "prediction = model.predict(Xy_trial)\n",
    "\n",
    "print(prediction)\n",
    "prediction_inverted = encoder.inverse_transform(prediction)\n",
    "print(prediction_inverted)"
   ]
  },
  {
   "cell_type": "code",
   "execution_count": 23,
   "metadata": {
    "execution": {
     "iopub.execute_input": "2024-12-04T12:04:11.696817Z",
     "iopub.status.busy": "2024-12-04T12:04:11.696468Z",
     "iopub.status.idle": "2024-12-04T12:04:11.755767Z",
     "shell.execute_reply": "2024-12-04T12:04:11.755078Z",
     "shell.execute_reply.started": "2024-12-04T12:04:11.696786Z"
    },
    "trusted": true
   },
   "outputs": [],
   "source": [
    "df_test_files = pd.read_csv('/kaggle/input/test-files/df_test')\n",
    "df_sample_files = pd.read_csv('/kaggle/input/test-files/df_sample')"
   ]
  },
  {
   "cell_type": "code",
   "execution_count": 25,
   "metadata": {
    "execution": {
     "iopub.execute_input": "2024-12-04T12:04:59.936748Z",
     "iopub.status.busy": "2024-12-04T12:04:59.936002Z",
     "iopub.status.idle": "2024-12-04T12:04:59.941586Z",
     "shell.execute_reply": "2024-12-04T12:04:59.940677Z",
     "shell.execute_reply.started": "2024-12-04T12:04:59.936714Z"
    },
    "trusted": true
   },
   "outputs": [],
   "source": [
    "df_test_files = df_test_files[['Text']]\n",
    "df_sample_files = df_sample_files[['Category']]"
   ]
  },
  {
   "cell_type": "code",
   "execution_count": 39,
   "metadata": {
    "execution": {
     "iopub.execute_input": "2024-12-04T12:11:31.181565Z",
     "iopub.status.busy": "2024-12-04T12:11:31.181222Z",
     "iopub.status.idle": "2024-12-04T12:11:31.186435Z",
     "shell.execute_reply": "2024-12-04T12:11:31.185406Z",
     "shell.execute_reply.started": "2024-12-04T12:11:31.181528Z"
    },
    "trusted": true
   },
   "outputs": [
    {
     "name": "stdout",
     "output_type": "stream",
     "text": [
      "(735, 1),(735, 1)\n"
     ]
    }
   ],
   "source": [
    "print(f'{df_test_files.shape},{df_sample_files.shape}')"
   ]
  },
  {
   "cell_type": "code",
   "execution_count": 28,
   "metadata": {
    "execution": {
     "iopub.execute_input": "2024-12-04T12:06:53.848910Z",
     "iopub.status.busy": "2024-12-04T12:06:53.848554Z",
     "iopub.status.idle": "2024-12-04T12:06:53.855253Z",
     "shell.execute_reply": "2024-12-04T12:06:53.854361Z",
     "shell.execute_reply.started": "2024-12-04T12:06:53.848882Z"
    },
    "trusted": true
   },
   "outputs": [],
   "source": [
    "y_test_testing = np.array(df_sample_files).reshape(-1, 1)  \n",
    "\n",
    "y_test_final = encoder.transform(y_test_testing)"
   ]
  },
  {
   "cell_type": "code",
   "execution_count": 41,
   "metadata": {
    "execution": {
     "iopub.execute_input": "2024-12-04T12:13:30.013869Z",
     "iopub.status.busy": "2024-12-04T12:13:30.013500Z",
     "iopub.status.idle": "2024-12-04T12:13:30.220897Z",
     "shell.execute_reply": "2024-12-04T12:13:30.220171Z",
     "shell.execute_reply.started": "2024-12-04T12:13:30.013839Z"
    },
    "trusted": true
   },
   "outputs": [],
   "source": [
    "text_cleaned = []\n",
    "for i in range(len(df_test_files)):\n",
    "    text = re.sub('[^a-zA-Z]', ' ', df_test_files['Text'][i])  \n",
    "    text = text.lower()  \n",
    "    text = text.split()  \n",
    "    text = [word for word in text if word not in combined_stopwords]  \n",
    "    cleaned_text = ' '.join(text)\n",
    "    text_cleaned.append(cleaned_text)\n",
    "\n",
    "\n",
    "sequences_encoded1 = tokenizer.texts_to_sequences(text_cleaned)\n",
    "y_testing_final = pad_sequences(sequences_encoded1, maxlen=max_length, padding='pre')"
   ]
  },
  {
   "cell_type": "code",
   "execution_count": 42,
   "metadata": {
    "execution": {
     "iopub.execute_input": "2024-12-04T12:13:31.918776Z",
     "iopub.status.busy": "2024-12-04T12:13:31.918379Z",
     "iopub.status.idle": "2024-12-04T12:13:32.483396Z",
     "shell.execute_reply": "2024-12-04T12:13:32.482527Z",
     "shell.execute_reply.started": "2024-12-04T12:13:31.918740Z"
    },
    "trusted": true
   },
   "outputs": [
    {
     "name": "stdout",
     "output_type": "stream",
     "text": [
      "\u001b[1m23/23\u001b[0m \u001b[32m━━━━━━━━━━━━━━━━━━━━\u001b[0m\u001b[37m\u001b[0m \u001b[1m0s\u001b[0m 21ms/step\n"
     ]
    }
   ],
   "source": [
    "y_pred_final = model.predict(y_testing_final)"
   ]
  },
  {
   "cell_type": "code",
   "execution_count": 48,
   "metadata": {
    "execution": {
     "iopub.execute_input": "2024-12-04T12:16:10.315966Z",
     "iopub.status.busy": "2024-12-04T12:16:10.315253Z",
     "iopub.status.idle": "2024-12-04T12:16:10.321355Z",
     "shell.execute_reply": "2024-12-04T12:16:10.320239Z",
     "shell.execute_reply.started": "2024-12-04T12:16:10.315930Z"
    },
    "trusted": true
   },
   "outputs": [
    {
     "name": "stdout",
     "output_type": "stream",
     "text": [
      "(735, 5),(735, 5)\n"
     ]
    }
   ],
   "source": [
    "print(f'{y_test_final.shape},{y_pred_final.shape}')"
   ]
  },
  {
   "cell_type": "code",
   "execution_count": 45,
   "metadata": {
    "execution": {
     "iopub.execute_input": "2024-12-04T12:14:24.120293Z",
     "iopub.status.busy": "2024-12-04T12:14:24.119979Z",
     "iopub.status.idle": "2024-12-04T12:14:24.275940Z",
     "shell.execute_reply": "2024-12-04T12:14:24.274844Z",
     "shell.execute_reply.started": "2024-12-04T12:14:24.120256Z"
    },
    "trusted": true
   },
   "outputs": [
    {
     "ename": "ValueError",
     "evalue": "Classification metrics can't handle a mix of multilabel-indicator and continuous-multioutput targets",
     "output_type": "error",
     "traceback": [
      "\u001b[0;31m---------------------------------------------------------------------------\u001b[0m",
      "\u001b[0;31mValueError\u001b[0m                                Traceback (most recent call last)",
      "Cell \u001b[0;32mIn[45], line 2\u001b[0m\n\u001b[1;32m      1\u001b[0m \u001b[38;5;28;01mfrom\u001b[39;00m \u001b[38;5;21;01msklearn\u001b[39;00m\u001b[38;5;21;01m.\u001b[39;00m\u001b[38;5;21;01mmetrics\u001b[39;00m \u001b[38;5;28;01mimport\u001b[39;00m accuracy_score\n\u001b[0;32m----> 2\u001b[0m \u001b[38;5;28mprint\u001b[39m(\u001b[43maccuracy_score\u001b[49m\u001b[43m(\u001b[49m\u001b[43my_test_final\u001b[49m\u001b[43m,\u001b[49m\u001b[43my_pred_final\u001b[49m\u001b[43m)\u001b[49m)\n",
      "File \u001b[0;32m/opt/conda/lib/python3.10/site-packages/sklearn/utils/_param_validation.py:192\u001b[0m, in \u001b[0;36mvalidate_params.<locals>.decorator.<locals>.wrapper\u001b[0;34m(*args, **kwargs)\u001b[0m\n\u001b[1;32m    187\u001b[0m validate_parameter_constraints(\n\u001b[1;32m    188\u001b[0m     parameter_constraints, params, caller_name\u001b[38;5;241m=\u001b[39mfunc\u001b[38;5;241m.\u001b[39m\u001b[38;5;18m__qualname__\u001b[39m\n\u001b[1;32m    189\u001b[0m )\n\u001b[1;32m    191\u001b[0m \u001b[38;5;28;01mtry\u001b[39;00m:\n\u001b[0;32m--> 192\u001b[0m     \u001b[38;5;28;01mreturn\u001b[39;00m \u001b[43mfunc\u001b[49m\u001b[43m(\u001b[49m\u001b[38;5;241;43m*\u001b[39;49m\u001b[43margs\u001b[49m\u001b[43m,\u001b[49m\u001b[43m \u001b[49m\u001b[38;5;241;43m*\u001b[39;49m\u001b[38;5;241;43m*\u001b[39;49m\u001b[43mkwargs\u001b[49m\u001b[43m)\u001b[49m\n\u001b[1;32m    193\u001b[0m \u001b[38;5;28;01mexcept\u001b[39;00m InvalidParameterError \u001b[38;5;28;01mas\u001b[39;00m e:\n\u001b[1;32m    194\u001b[0m     \u001b[38;5;66;03m# When the function is just a wrapper around an estimator, we allow\u001b[39;00m\n\u001b[1;32m    195\u001b[0m     \u001b[38;5;66;03m# the function to delegate validation to the estimator, but we replace\u001b[39;00m\n\u001b[1;32m    196\u001b[0m     \u001b[38;5;66;03m# the name of the estimator by the name of the function in the error\u001b[39;00m\n\u001b[1;32m    197\u001b[0m     \u001b[38;5;66;03m# message to avoid confusion.\u001b[39;00m\n\u001b[1;32m    198\u001b[0m     msg \u001b[38;5;241m=\u001b[39m re\u001b[38;5;241m.\u001b[39msub(\n\u001b[1;32m    199\u001b[0m         \u001b[38;5;124mr\u001b[39m\u001b[38;5;124m\"\u001b[39m\u001b[38;5;124mparameter of \u001b[39m\u001b[38;5;124m\\\u001b[39m\u001b[38;5;124mw+ must be\u001b[39m\u001b[38;5;124m\"\u001b[39m,\n\u001b[1;32m    200\u001b[0m         \u001b[38;5;124mf\u001b[39m\u001b[38;5;124m\"\u001b[39m\u001b[38;5;124mparameter of \u001b[39m\u001b[38;5;132;01m{\u001b[39;00mfunc\u001b[38;5;241m.\u001b[39m\u001b[38;5;18m__qualname__\u001b[39m\u001b[38;5;132;01m}\u001b[39;00m\u001b[38;5;124m must be\u001b[39m\u001b[38;5;124m\"\u001b[39m,\n\u001b[1;32m    201\u001b[0m         \u001b[38;5;28mstr\u001b[39m(e),\n\u001b[1;32m    202\u001b[0m     )\n",
      "File \u001b[0;32m/opt/conda/lib/python3.10/site-packages/sklearn/metrics/_classification.py:221\u001b[0m, in \u001b[0;36maccuracy_score\u001b[0;34m(y_true, y_pred, normalize, sample_weight)\u001b[0m\n\u001b[1;32m    155\u001b[0m \u001b[38;5;250m\u001b[39m\u001b[38;5;124;03m\"\"\"Accuracy classification score.\u001b[39;00m\n\u001b[1;32m    156\u001b[0m \n\u001b[1;32m    157\u001b[0m \u001b[38;5;124;03mIn multilabel classification, this function computes subset accuracy:\u001b[39;00m\n\u001b[0;32m   (...)\u001b[0m\n\u001b[1;32m    217\u001b[0m \u001b[38;5;124;03m0.5\u001b[39;00m\n\u001b[1;32m    218\u001b[0m \u001b[38;5;124;03m\"\"\"\u001b[39;00m\n\u001b[1;32m    220\u001b[0m \u001b[38;5;66;03m# Compute accuracy for each possible representation\u001b[39;00m\n\u001b[0;32m--> 221\u001b[0m y_type, y_true, y_pred \u001b[38;5;241m=\u001b[39m \u001b[43m_check_targets\u001b[49m\u001b[43m(\u001b[49m\u001b[43my_true\u001b[49m\u001b[43m,\u001b[49m\u001b[43m \u001b[49m\u001b[43my_pred\u001b[49m\u001b[43m)\u001b[49m\n\u001b[1;32m    222\u001b[0m check_consistent_length(y_true, y_pred, sample_weight)\n\u001b[1;32m    223\u001b[0m \u001b[38;5;28;01mif\u001b[39;00m y_type\u001b[38;5;241m.\u001b[39mstartswith(\u001b[38;5;124m\"\u001b[39m\u001b[38;5;124mmultilabel\u001b[39m\u001b[38;5;124m\"\u001b[39m):\n",
      "File \u001b[0;32m/opt/conda/lib/python3.10/site-packages/sklearn/metrics/_classification.py:95\u001b[0m, in \u001b[0;36m_check_targets\u001b[0;34m(y_true, y_pred)\u001b[0m\n\u001b[1;32m     92\u001b[0m     y_type \u001b[38;5;241m=\u001b[39m {\u001b[38;5;124m\"\u001b[39m\u001b[38;5;124mmulticlass\u001b[39m\u001b[38;5;124m\"\u001b[39m}\n\u001b[1;32m     94\u001b[0m \u001b[38;5;28;01mif\u001b[39;00m \u001b[38;5;28mlen\u001b[39m(y_type) \u001b[38;5;241m>\u001b[39m \u001b[38;5;241m1\u001b[39m:\n\u001b[0;32m---> 95\u001b[0m     \u001b[38;5;28;01mraise\u001b[39;00m \u001b[38;5;167;01mValueError\u001b[39;00m(\n\u001b[1;32m     96\u001b[0m         \u001b[38;5;124m\"\u001b[39m\u001b[38;5;124mClassification metrics can\u001b[39m\u001b[38;5;124m'\u001b[39m\u001b[38;5;124mt handle a mix of \u001b[39m\u001b[38;5;132;01m{0}\u001b[39;00m\u001b[38;5;124m and \u001b[39m\u001b[38;5;132;01m{1}\u001b[39;00m\u001b[38;5;124m targets\u001b[39m\u001b[38;5;124m\"\u001b[39m\u001b[38;5;241m.\u001b[39mformat(\n\u001b[1;32m     97\u001b[0m             type_true, type_pred\n\u001b[1;32m     98\u001b[0m         )\n\u001b[1;32m     99\u001b[0m     )\n\u001b[1;32m    101\u001b[0m \u001b[38;5;66;03m# We can't have more than one value on y_type => The set is no more needed\u001b[39;00m\n\u001b[1;32m    102\u001b[0m y_type \u001b[38;5;241m=\u001b[39m y_type\u001b[38;5;241m.\u001b[39mpop()\n",
      "\u001b[0;31mValueError\u001b[0m: Classification metrics can't handle a mix of multilabel-indicator and continuous-multioutput targets"
     ]
    }
   ],
   "source": [
    "from sklearn.metrics import accuracy_score\n",
    "print(accuracy_score(y_test_final,y_pred_final))"
   ]
  },
  {
   "cell_type": "code",
   "execution_count": null,
   "metadata": {
    "trusted": true
   },
   "outputs": [],
   "source": []
  },
  {
   "cell_type": "code",
   "execution_count": null,
   "metadata": {
    "trusted": true
   },
   "outputs": [],
   "source": []
  },
  {
   "cell_type": "markdown",
   "metadata": {},
   "source": []
  },
  {
   "cell_type": "code",
   "execution_count": null,
   "metadata": {
    "execution": {
     "iopub.execute_input": "2024-12-02T16:37:37.089999Z",
     "iopub.status.busy": "2024-12-02T16:37:37.089627Z",
     "iopub.status.idle": "2024-12-02T16:37:37.161865Z",
     "shell.execute_reply": "2024-12-02T16:37:37.161003Z",
     "shell.execute_reply.started": "2024-12-02T16:37:37.089960Z"
    },
    "trusted": true
   },
   "outputs": [],
   "source": [
    "df_new = pd.DataFrame({'Text': [text4]})\n",
    "text_cleaned1 = []\n",
    "for i in range(len(df_new)):\n",
    "    text1 = re.sub('[^a-zA-Z0-9]', ' ', df_new['Text'][i])  \n",
    "    text1 = text1.lower()  \n",
    "    text1 = text1.split()  \n",
    "    text1 = [word1 for word1 in text1 if word1 not in combined_stopwords]  \n",
    "    cleaned_text1 = ' '.join(text1)\n",
    "    text_cleaned1.append(cleaned_text1)\n",
    "\n",
    "sequences_encoded1 = tokenizer.texts_to_sequences(text_cleaned1)\n",
    "\n",
    "Xy_trial = pad_sequences(sequences_encoded1, maxlen=max_length, padding='pre')\n",
    "\n",
    "Xy_trial\n",
    "\n",
    "prediction = model.predict(Xy_trial)\n",
    "\n",
    "print(prediction)\n",
    "prediction_inverted = encoder.inverse_transform(prediction)\n",
    "print(prediction_inverted[0][0])"
   ]
  },
  {
   "cell_type": "code",
   "execution_count": null,
   "metadata": {
    "execution": {
     "iopub.execute_input": "2024-12-04T05:01:33.407337Z",
     "iopub.status.busy": "2024-12-04T05:01:33.406821Z",
     "iopub.status.idle": "2024-12-04T05:01:33.413280Z",
     "shell.execute_reply": "2024-12-04T05:01:33.411635Z",
     "shell.execute_reply.started": "2024-12-04T05:01:33.407301Z"
    },
    "trusted": true
   },
   "outputs": [],
   "source": [
    "from sklearn.feature_extraction.text import CountVectorizer"
   ]
  },
  {
   "cell_type": "code",
   "execution_count": null,
   "metadata": {
    "execution": {
     "iopub.execute_input": "2024-12-04T05:35:58.665009Z",
     "iopub.status.busy": "2024-12-04T05:35:58.664505Z",
     "iopub.status.idle": "2024-12-04T05:35:58.670543Z",
     "shell.execute_reply": "2024-12-04T05:35:58.669381Z",
     "shell.execute_reply.started": "2024-12-04T05:35:58.664972Z"
    },
    "trusted": true
   },
   "outputs": [],
   "source": [
    "cv = CountVectorizer( lowercase=True,stop_words='english',max_features=5000)\n"
   ]
  },
  {
   "cell_type": "code",
   "execution_count": null,
   "metadata": {
    "execution": {
     "iopub.execute_input": "2024-12-04T05:35:59.103818Z",
     "iopub.status.busy": "2024-12-04T05:35:59.103387Z",
     "iopub.status.idle": "2024-12-04T05:35:59.140960Z",
     "shell.execute_reply": "2024-12-04T05:35:59.139499Z",
     "shell.execute_reply.started": "2024-12-04T05:35:59.103785Z"
    },
    "trusted": true
   },
   "outputs": [],
   "source": [
    "#X_train = [i for i in X_train['Text']]"
   ]
  },
  {
   "cell_type": "code",
   "execution_count": null,
   "metadata": {
    "execution": {
     "iopub.execute_input": "2024-12-04T05:36:05.064043Z",
     "iopub.status.busy": "2024-12-04T05:36:05.063568Z",
     "iopub.status.idle": "2024-12-04T05:36:05.072291Z",
     "shell.execute_reply": "2024-12-04T05:36:05.070940Z",
     "shell.execute_reply.started": "2024-12-04T05:36:05.064007Z"
    },
    "trusted": true
   },
   "outputs": [],
   "source": [
    "type(X_train)"
   ]
  },
  {
   "cell_type": "code",
   "execution_count": null,
   "metadata": {
    "execution": {
     "iopub.execute_input": "2024-12-04T05:36:06.131076Z",
     "iopub.status.busy": "2024-12-04T05:36:06.130681Z",
     "iopub.status.idle": "2024-12-04T05:36:06.498506Z",
     "shell.execute_reply": "2024-12-04T05:36:06.496612Z",
     "shell.execute_reply.started": "2024-12-04T05:36:06.131043Z"
    },
    "trusted": true
   },
   "outputs": [],
   "source": [
    "X_train_final1 = cv.fit_transform(X_train)"
   ]
  },
  {
   "cell_type": "code",
   "execution_count": null,
   "metadata": {
    "trusted": true
   },
   "outputs": [],
   "source": []
  },
  {
   "cell_type": "code",
   "execution_count": null,
   "metadata": {
    "execution": {
     "iopub.execute_input": "2024-12-04T05:36:07.531911Z",
     "iopub.status.busy": "2024-12-04T05:36:07.530921Z",
     "iopub.status.idle": "2024-12-04T05:36:07.537408Z",
     "shell.execute_reply": "2024-12-04T05:36:07.535769Z",
     "shell.execute_reply.started": "2024-12-04T05:36:07.531867Z"
    },
    "trusted": true
   },
   "outputs": [],
   "source": [
    "#X_test = [i for i in X_test['Text']]"
   ]
  },
  {
   "cell_type": "code",
   "execution_count": null,
   "metadata": {
    "execution": {
     "iopub.execute_input": "2024-12-04T05:36:08.075429Z",
     "iopub.status.busy": "2024-12-04T05:36:08.074949Z",
     "iopub.status.idle": "2024-12-04T05:36:08.218246Z",
     "shell.execute_reply": "2024-12-04T05:36:08.217076Z",
     "shell.execute_reply.started": "2024-12-04T05:36:08.075391Z"
    },
    "trusted": true
   },
   "outputs": [],
   "source": [
    "X_test_final1 = cv.transform(X_test)"
   ]
  },
  {
   "cell_type": "code",
   "execution_count": null,
   "metadata": {
    "execution": {
     "iopub.execute_input": "2024-12-04T05:36:10.735166Z",
     "iopub.status.busy": "2024-12-04T05:36:10.734742Z",
     "iopub.status.idle": "2024-12-04T05:36:10.740456Z",
     "shell.execute_reply": "2024-12-04T05:36:10.739243Z",
     "shell.execute_reply.started": "2024-12-04T05:36:10.735131Z"
    },
    "trusted": true
   },
   "outputs": [],
   "source": [
    "from xgboost import XGBClassifier"
   ]
  },
  {
   "cell_type": "code",
   "execution_count": null,
   "metadata": {
    "execution": {
     "iopub.execute_input": "2024-12-04T05:41:00.910181Z",
     "iopub.status.busy": "2024-12-04T05:41:00.909754Z",
     "iopub.status.idle": "2024-12-04T05:41:00.916793Z",
     "shell.execute_reply": "2024-12-04T05:41:00.915185Z",
     "shell.execute_reply.started": "2024-12-04T05:41:00.910148Z"
    },
    "trusted": true
   },
   "outputs": [],
   "source": [
    "xgb = XGBClassifier(max_depth=3, learning_rate=0.1)"
   ]
  },
  {
   "cell_type": "code",
   "execution_count": null,
   "metadata": {
    "execution": {
     "iopub.execute_input": "2024-12-04T05:41:01.300611Z",
     "iopub.status.busy": "2024-12-04T05:41:01.300164Z",
     "iopub.status.idle": "2024-12-04T05:41:01.308144Z",
     "shell.execute_reply": "2024-12-04T05:41:01.306800Z",
     "shell.execute_reply.started": "2024-12-04T05:41:01.300573Z"
    },
    "trusted": true
   },
   "outputs": [],
   "source": [
    "X_test_final1"
   ]
  },
  {
   "cell_type": "code",
   "execution_count": null,
   "metadata": {
    "execution": {
     "iopub.execute_input": "2024-12-04T05:41:01.920644Z",
     "iopub.status.busy": "2024-12-04T05:41:01.920194Z",
     "iopub.status.idle": "2024-12-04T05:41:03.125541Z",
     "shell.execute_reply": "2024-12-04T05:41:03.124562Z",
     "shell.execute_reply.started": "2024-12-04T05:41:01.920600Z"
    },
    "trusted": true
   },
   "outputs": [],
   "source": [
    "xgb.fit(X_train_final1,y_train_final)"
   ]
  },
  {
   "cell_type": "code",
   "execution_count": null,
   "metadata": {
    "execution": {
     "iopub.execute_input": "2024-12-04T05:41:03.127309Z",
     "iopub.status.busy": "2024-12-04T05:41:03.126929Z",
     "iopub.status.idle": "2024-12-04T05:41:03.140672Z",
     "shell.execute_reply": "2024-12-04T05:41:03.139588Z",
     "shell.execute_reply.started": "2024-12-04T05:41:03.127243Z"
    },
    "trusted": true
   },
   "outputs": [],
   "source": [
    "y_pred = xgb.predict(X_test_final1)"
   ]
  },
  {
   "cell_type": "code",
   "execution_count": null,
   "metadata": {
    "execution": {
     "iopub.execute_input": "2024-12-04T05:41:03.280060Z",
     "iopub.status.busy": "2024-12-04T05:41:03.279646Z",
     "iopub.status.idle": "2024-12-04T05:41:03.289947Z",
     "shell.execute_reply": "2024-12-04T05:41:03.288162Z",
     "shell.execute_reply.started": "2024-12-04T05:41:03.280024Z"
    },
    "trusted": true
   },
   "outputs": [],
   "source": [
    "from sklearn.metrics import accuracy_score\n",
    "\n",
    "print(accuracy_score(y_test_final,y_pred))"
   ]
  },
  {
   "cell_type": "code",
   "execution_count": null,
   "metadata": {
    "execution": {
     "iopub.execute_input": "2024-12-04T05:41:04.312309Z",
     "iopub.status.busy": "2024-12-04T05:41:04.311870Z",
     "iopub.status.idle": "2024-12-04T05:41:04.331334Z",
     "shell.execute_reply": "2024-12-04T05:41:04.328648Z",
     "shell.execute_reply.started": "2024-12-04T05:41:04.312240Z"
    },
    "trusted": true
   },
   "outputs": [],
   "source": [
    "y_train_pred = xgb.predict(X_train_final1)\n",
    "print(accuracy_score(y_train_final,y_train_pred))"
   ]
  },
  {
   "cell_type": "code",
   "execution_count": null,
   "metadata": {
    "trusted": true
   },
   "outputs": [],
   "source": []
  }
 ],
 "metadata": {
  "kaggle": {
   "accelerator": "none",
   "dataSources": [
    {
     "datasetId": 6212757,
     "sourceId": 10078291,
     "sourceType": "datasetVersion"
    },
    {
     "datasetId": 6228414,
     "sourceId": 10098818,
     "sourceType": "datasetVersion"
    }
   ],
   "dockerImageVersionId": 30787,
   "isGpuEnabled": false,
   "isInternetEnabled": true,
   "language": "python",
   "sourceType": "notebook"
  },
  "kernelspec": {
   "display_name": "Python 3",
   "language": "python",
   "name": "python3"
  },
  "language_info": {
   "codemirror_mode": {
    "name": "ipython",
    "version": 3
   },
   "file_extension": ".py",
   "mimetype": "text/x-python",
   "name": "python",
   "nbconvert_exporter": "python",
   "pygments_lexer": "ipython3",
   "version": "3.10.14"
  }
 },
 "nbformat": 4,
 "nbformat_minor": 4
}
